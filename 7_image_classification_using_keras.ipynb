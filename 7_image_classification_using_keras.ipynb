{
 "cells": [
  {
   "cell_type": "markdown",
   "id": "consolidated-orlando",
   "metadata": {
    "id": "consolidated-orlando"
   },
   "source": [
    "<figure>\n",
    "  <IMG SRC=\"input/FAU.png\" WIDTH=250 ALIGN=\"right\">\n",
    "</figure>\n",
    "\n",
    "# Image Classification with Keras\n",
    "    \n",
    "*David B. Blumenthal*, *Suryadipto Sarkar*"
   ]
  },
  {
   "cell_type": "markdown",
   "id": "passing-audience",
   "metadata": {
    "id": "passing-audience"
   },
   "source": [
    "\n",
    "\n",
    "## What is Tensorflow?\n",
    "\n",
    "\n",
    "Tensorflow is an open-source end-to-end platform that facilitates designing and deploying Machine Learning models using Python."
   ]
  },
  {
   "cell_type": "markdown",
   "id": "_Xzz20cGx--p",
   "metadata": {
    "id": "_Xzz20cGx--p"
   },
   "source": [
    "\n",
    "\n",
    "## What is Keras?\n",
    "\n",
    "\n",
    "Keras is an API built on top of TensorFlow, that supports deep learning."
   ]
  },
  {
   "cell_type": "code",
   "execution_count": null,
   "id": "NyFHl-GYYy0z",
   "metadata": {
    "id": "NyFHl-GYYy0z"
   },
   "outputs": [],
   "source": [
    "!unzip PET-IMAGES.zip"
   ]
  },
  {
   "cell_type": "code",
   "execution_count": 2,
   "id": "obvious-foundation",
   "metadata": {
    "id": "obvious-foundation"
   },
   "outputs": [],
   "source": [
    "# IMPORT REQUIRED LIBRARIES:\n",
    "# --------------------------\n",
    "import tensorflow as tf\n",
    "from tensorflow.keras.models import Sequential\n",
    "from tensorflow.keras.layers import Dense, Dropout, Activation, Flatten, Conv2D, MaxPooling2D\n",
    "import pickle\n",
    "import numpy as np\n",
    "from numpy import genfromtxt\n",
    "import numpy as np\n",
    "import matplotlib.pyplot as plt\n",
    "import matplotlib.image as mpimg\n",
    "import os\n",
    "# import cv2\n",
    "from PIL import Image\n",
    "import imageio\n",
    "import pandas as pd\n",
    "import random\n",
    "import pickle\n",
    "import pandas as pd\n",
    "from sklearn.preprocessing import LabelBinarizer\n",
    "from skimage.io import imread_collection\n",
    "import glob"
   ]
  },
  {
   "cell_type": "markdown",
   "id": "RbG3DPw3ds44",
   "metadata": {
    "id": "RbG3DPw3ds44"
   },
   "source": [
    "## **Note:**\n",
    "* This is the way to mount drive and read images directly from Google Drive. However, since we have 24,000 images, this will take a while. Therefore, we will work on a smaller subset of the images."
   ]
  },
  {
   "cell_type": "markdown",
   "id": "IBdKo70mIJTe",
   "metadata": {
    "id": "IBdKo70mIJTe"
   },
   "source": [
    "## Classification Dataset\n",
    "\n",
    "\n",
    "We will make use of the popular 'Cats vs Dogs' classification dataset.\n",
    "\n",
    "Dataset download link: https://download.microsoft.com/download/3/E/1/3E1C3F21-ECDB-4869-8368-6DEBA77B919F/kagglecatsanddogs_3367a.zip"
   ]
  },
  {
   "cell_type": "markdown",
   "id": "rL0UpsnS7fMq",
   "metadata": {
    "id": "rL0UpsnS7fMq"
   },
   "source": [
    "## <a name=\"ex1\"></a>Exercise-1:\n",
    "\n",
    "* Read all of the .jpeg and .png images from a folder.\n",
    "\n",
    "* Save all of the images in a single list (i.e., a list of image arrays). Note that this is the most common way of working with data in python. We often save all of the data into numpy lists or dataframes or similar structures.\n",
    "\n",
    "There are many ways of doing this. I have made use of **opencv** as it is one of the most popular Computer Vision libraries in python. Read more at: https://github.com/opencv/opencv"
   ]
  },
  {
   "cell_type": "markdown",
   "id": "6VxtI7S8P_Zt",
   "metadata": {
    "id": "6VxtI7S8P_Zt"
   },
   "source": [
    "<a href=\"#ex1sol\">Solution for Exercise 1</a>"
   ]
  },
  {
   "cell_type": "markdown",
   "id": "PFjyIH88-aKt",
   "metadata": {
    "id": "PFjyIH88-aKt"
   },
   "source": [
    "## Handling pickle (or npy) data:\n",
    "\n",
    "* We often need to run ML algorithms many times with little tweaks in the model.\n",
    "\n",
    "* How do we achieve this? Of course, we could read the data every time and save it as a list as shown above.\n",
    "\n",
    "* However, this is a very time-consuming approach.\n",
    "\n",
    "* What is a better approach? Saving the data as a list of image arrays once, and save that for later use.\n",
    "\n",
    "\n",
    "\n",
    "Read about the **`.pickle`** and **`.npy`** file types. (Here, we will use pickle - don't forget to import the **pickle** and **numpy** libraries.)\n"
   ]
  },
  {
   "cell_type": "markdown",
   "id": "Ey2BtSSSmUqk",
   "metadata": {
    "id": "Ey2BtSSSmUqk"
   },
   "source": [
    "### Writing data to pickle file:"
   ]
  },
  {
   "cell_type": "code",
   "execution_count": null,
   "id": "jQhffyIxALJk",
   "metadata": {
    "id": "jQhffyIxALJk"
   },
   "outputs": [],
   "source": [
    "# # SYNTAX:\n",
    "# # -------\n",
    "# pickle_out=open(\"data.pickle\",\"wb\")\n",
    "# pickle.dump(data,pickle_out)\n",
    "# pickle_out.close()"
   ]
  },
  {
   "cell_type": "markdown",
   "id": "Hz9eO2u_mZyA",
   "metadata": {
    "id": "Hz9eO2u_mZyA"
   },
   "source": [
    "### Reading data from pickle file:"
   ]
  },
  {
   "cell_type": "code",
   "execution_count": null,
   "id": "HJ6Cn-8rmc54",
   "metadata": {
    "id": "HJ6Cn-8rmc54"
   },
   "outputs": [],
   "source": [
    "# # SYNTAX:\n",
    "# # -------\n",
    "# data=pickle.load(open(\"data.pickle\",\"rb\"))"
   ]
  },
  {
   "cell_type": "markdown",
   "id": "zJNyAnoFnRRN",
   "metadata": {
    "id": "zJNyAnoFnRRN"
   },
   "source": [
    "## <a name=\"ex2\"></a>Exercise-2:\n",
    "\n",
    "* Read in the training data(X) and corresponding labels(y)."
   ]
  },
  {
   "cell_type": "markdown",
   "id": "9duTDEw8oEwp",
   "metadata": {
    "id": "9duTDEw8oEwp"
   },
   "source": [
    "<a href=\"#ex2sol\">Solution for Exercise 2</a>"
   ]
  },
  {
   "cell_type": "markdown",
   "id": "NXjAqa1DrOnr",
   "metadata": {
    "id": "NXjAqa1DrOnr"
   },
   "source": [
    "# Randomizing the data:"
   ]
  },
  {
   "cell_type": "markdown",
   "id": "paF8xtO2qnzt",
   "metadata": {
    "id": "paF8xtO2qnzt"
   },
   "source": [
    "## <a name=\"ex3\"></a> Exercise-3:\n",
    "\n",
    "* Randomize the data while preserving the sample-wise label information."
   ]
  },
  {
   "cell_type": "markdown",
   "id": "L8gMKPNFrk_Q",
   "metadata": {
    "id": "L8gMKPNFrk_Q"
   },
   "source": [
    "<a href=\"#ex3sol\">Solution for Exercise 3</a>"
   ]
  },
  {
   "cell_type": "markdown",
   "id": "6w-4rEt4tOYn",
   "metadata": {
    "id": "6w-4rEt4tOYn"
   },
   "source": [
    "## <a name=\"ex4\"></a> Exercise-4:\n",
    "\n",
    "* Save shuffled data as pickle file for later use."
   ]
  },
  {
   "cell_type": "markdown",
   "id": "UmokcGsG9miR",
   "metadata": {
    "id": "UmokcGsG9miR"
   },
   "source": [
    "<a href=\"#ex4sol\">Solution for Exercise 4</a>"
   ]
  },
  {
   "cell_type": "markdown",
   "id": "sTCAVBx2tBoP",
   "metadata": {
    "id": "sTCAVBx2tBoP"
   },
   "source": [
    "# **CONVOLUTIONAL NEURAL NETWORKS (CNNs):**"
   ]
  },
  {
   "cell_type": "markdown",
   "id": "kwWqDKSNtx2T",
   "metadata": {
    "id": "kwWqDKSNtx2T"
   },
   "source": [
    "## Why CNNs?\n",
    "\n",
    "* Convert data to embeddings/ features\n",
    "* Example: Converting images from pixel space to feature space\n",
    "* Enhances learning, reduces dimensionality, represents the data better\n",
    "\n",
    "<div>\n",
    "    <img src=\"CNN-overview.jpeg\" width=\"1000\" height=\"1000\"/>\n",
    "</div><br><br>"
   ]
  },
  {
   "cell_type": "markdown",
   "id": "0sm_svbftR93",
   "metadata": {
    "id": "0sm_svbftR93"
   },
   "source": [
    "# Components/ Layers:"
   ]
  },
  {
   "cell_type": "markdown",
   "id": "cJs1ePysMW9R",
   "metadata": {
    "id": "cJs1ePysMW9R"
   },
   "source": [
    "## 1. Convolutional Layer:\n",
    "* Helps extract local patterns in the data (here, image).\n",
    "* Also helps reduce the number of features. But that is a byproduct of the convolution operation, it is not the main objective. The main objective is to extract meaningful local patterns.\n",
    "+ #### **Note: If the image is an RGB (3-channel image), the convolved image is also 3-channel. If the input image is a gray (1-channel) image, the convolved image is also single-channeled.**\n",
    "  + This is because the kernel is applied on each channel separately for convolution."
   ]
  },
  {
   "cell_type": "markdown",
   "id": "bd819481-75f0-4b6f-b7f2-247d566f8c3b",
   "metadata": {},
   "source": [
    "### 1.1 Input, output and the convolution operator as a black box:\n",
    "**Inputs**: \n",
    "<ul>\n",
    "    <li>Image ($\\mathbf{I}$)</li>\n",
    "    <li>Window (aka, \"filter\" or \"kernel\") ($\\mathbf{W}$)</li>\n",
    "</ul>\n",
    "\n",
    "**Output**: \n",
    "<ul>\n",
    "    <li>Feature map ($\\mathbf{F}$)</li>\n",
    "</ul>\n",
    "\n",
    "**The convolution operator&mdash;what can we expect?:**<br>\n",
    "$I*W=F$, where $*$ denotes the convolution operator.\n",
    "<br><br>"
   ]
  },
  {
   "cell_type": "markdown",
   "id": "a8b08c3c-0810-4449-91f6-44509c1d58c1",
   "metadata": {},
   "source": [
    "### 1.2 The math behind the convolutional layer:\n",
    "Q. What exactly is the convolution operation? <cite>[1,2]</cite><br>\n",
    "A. The convolution operation implements a sliding window (aka, \"filter\" or \"kernel\") over the input image.<br>\n",
    "$\\Rightarrow$ **In other words**: Dot product of the kernel and the original image pixels at each position.\n",
    "\n",
    "\n",
    "#### The convolution operation is formally defined as:\n",
    "\\begin{equation}\n",
    "    F(x,y)=I*W=\\sum_{l \\in L}\\sum_{w \\in W}I(x+l, y+w)\\cdot W(x,y)\n",
    "\\end{equation}\n",
    "where, $I$: input image;<br>\n",
    "$W$: input window of dimenaions $L \\times W$;<br>\n",
    "and, $F$: feature map<br><br>"
   ]
  },
  {
   "cell_type": "markdown",
   "id": "d8714c71-f1ad-4377-9aae-f7956f32e321",
   "metadata": {},
   "source": [
    "### 1.2.3 Stride:\n",
    "**Definition:** Stride is a hyperparameter that tells us how many pixel values the sliding window must be shifted by, during each step of the dot product generation, during the convolution step.\n",
    "<div>\n",
    "    <img src=\"stride.jpeg\" width=\"1000\" height=\"1000\"/>\n",
    "</div><br><br>"
   ]
  },
  {
   "cell_type": "markdown",
   "id": "111e8e5c-e3e8-4be0-b77d-b569decbaaf9",
   "metadata": {},
   "source": [
    "#### Significance of stride:\n",
    "<ul>\n",
    "    <li>$\\mathbf{Stride = 1}$: Large resultant feature map</li>\n",
    "    <li>$\\mathbf{Stride = Input\\;image\\;dimensions\\;(I_{L \\times W})}$: Resultant feature map contains just one single element.</li>\n",
    "<ul>\n",
    "<br>"
   ]
  },
  {
   "cell_type": "markdown",
   "id": "f27265af-c2cf-4104-aec7-2a75f2ae3423",
   "metadata": {},
   "source": [
    "#### Impact of stride on output map:\n",
    "$$F_{length}=\\frac{I_L-W_L}{stride}+1$$\n",
    "$$F_{width}=\\frac{I_W-W_W}{stride}+1$$<br>\n",
    "where, $I_L$ and $I_W$ are the length and width of the input image ($I_{L \\times W}$);<br>\n",
    "$W_L$ and $W_W$ are the length and width of the input window ($W_{L \\times W}$);<br>\n",
    "and, $F$ is the feature map after convolution between the image and the window.<br><br>"
   ]
  },
  {
   "cell_type": "markdown",
   "id": "6a1e7092-9924-49e7-a3e8-514d7805382d",
   "metadata": {},
   "source": [
    "### 1.2.4 Padding:\n",
    "Padding refers to the addition of extra pixels around the borders of the image."
   ]
  },
  {
   "cell_type": "markdown",
   "id": "2fbbde4c-1481-4b26-a1e4-20a281802f92",
   "metadata": {},
   "source": [
    "#### Why do we need padding?\n",
    "<ul>\n",
    "    <li>Prevent information loss around the borders of the input image.</li>\n",
    "    <li>Image keeps getting smaller, leading to lower resolution in the subsequent layers of the neural network.</li>\n",
    "    <li>Most neural networks have scores of layers (sometimes hundreds of layers for moderately complex tasks)</li>\n",
    "</ul>"
   ]
  },
  {
   "cell_type": "markdown",
   "id": "60e62d95-46b0-4168-bcb6-9850826b5e60",
   "metadata": {},
   "source": [
    "#### Impact of padding on output map:\n",
    "$$F_{length}=\\frac{I_L-W_L+2 \\times padding}{stride}+1$$\n",
    "$$F_{width}=\\frac{I_W-W_W+2 \\times padding}{stride}+1$$<br>\n",
    "where, $I_L$ and $I_W$ are the length and width of the input image ($I_{L \\times W}$);<br>\n",
    "$W_L$ and $W_W$ are the length and width of the input window ($W_{L \\times W}$);<br>\n",
    "and, $F$ is the feature map after convolution between the image and the window."
   ]
  },
  {
   "cell_type": "markdown",
   "id": "tS9egfG_NeaL",
   "metadata": {
    "id": "tS9egfG_NeaL"
   },
   "source": [
    "## 2. Pooling Layer:\n",
    "\n",
    "* The main function of the pooling layer is to reduce dimensionality.\n",
    "* Two popular types of pooling: MaxPooling, and AveragePooling.\n",
    "* AveragePooling also helps in noise reduction.\n",
    "\n",
    "<br>\n",
    "\n",
    "#### **A simple example of Pooling:**\n",
    "(Note: Pooling window size 3*3)\n",
    "<div>\n",
    "    <img src=\"pooling.jpeg\" width=\"1000\" height=\"1000\"/>\n",
    "</div><br><br>"
   ]
  },
  {
   "cell_type": "markdown",
   "id": "ftwhH-7wxcl4",
   "metadata": {
    "id": "ftwhH-7wxcl4"
   },
   "source": [
    "## 3. Feedforward Layer:\n",
    "\n",
    "<div>\n",
    "    <img src=\"fcnn.jpeg\" width=\"1000\" height=\"1000\"/>\n",
    "</div>\n",
    "\n",
    "* Standard Neural Network architecture used for classification.\n",
    "* The building block of any neural network is the **neuron**."
   ]
  },
  {
   "cell_type": "markdown",
   "id": "a7de7a0f-7e4e-47c3-bd0a-b03d97f82be6",
   "metadata": {},
   "source": [
    "### 3.1 The neuron:\n",
    "Made up of two components:\n",
    "* Weighted sum\n",
    "* Activation functions\n",
    "\n",
    "<div>\n",
    "    <img src=\"Neuron.jpeg\" width=\"600\" height=\"600\"/>\n",
    "</div>"
   ]
  },
  {
   "cell_type": "markdown",
   "id": "3556ec8d-7303-4bb1-ace5-324153715175",
   "metadata": {},
   "source": [
    "#### 3.1.1 Weighted sum:\n",
    "$$z=W^TX+b$$\n",
    "where, $W$: weight matrix;<br>\n",
    "$X$: input matrix;<br>\n",
    "and, $b$: bias of the model.<br>\n",
    "**$\\Rightarrow$Note: Both $W$ and $b$ are parameters learnt by the model (in this case, the neuron).**"
   ]
  },
  {
   "cell_type": "markdown",
   "id": "2fd59a1f-08d5-4262-a935-29017855b8b0",
   "metadata": {},
   "source": [
    "#### 3.1.2 Activation function:\n",
    "* Used for ***thresholding***.<br><br>\n",
    "* Popular activation functions:\n",
    "  1. **Sigmoid function:** \\begin{equation} f(z)=\\frac{1}{1+e^{-z}} \\end{equation}\n",
    "  2. **tanh:** \\begin{equation} f(z)=tanh(z)=\\frac{2}{1+e^{-2z}}-1 \\end{equation}\n",
    "  3. **Rectified Linear Unit (ReLU):** \\begin{equation} f(z)=max(0,z) \\end{equation}\n",
    "  4. **Leaky ReLU:** \\begin{equation} f(z)=max(\\delta,z) \\end{equation}\n",
    "  5. **Exponential linear unit ELU):** \\begin{equation}\n",
    "  f(z) =\n",
    "    \\begin{cases}\n",
    "      z & \\text{if bank $z>0$}\\\\\n",
    "      \\delta (e^x-1) & \\text{if $z \\leq 0$}\n",
    "    \\end{cases}       \n",
    "\\end{equation}\n",
    "  <!--6. $f(z)=z$ if $z>0$, and $f(z)=\\delta (e^x-1)$ if $z \\leq 0$-->\n",
    "  6. **Softmax function:** $f(z)_i = \\frac{e^z_i}{\\sum_{j=1}^{K}{e^{z_j}}}$, where $K$ is the number of categories (aka \"classes\")\n",
    "<br><br>***Note:*** $\\delta$ is a small constant $\\in [0, 1]$\n",
    "\n",
    "<div>\n",
    "    <img src=\"Activation_functions.jpeg\" width=\"1200\" height=\"1200\"/>\n",
    "</div>\n",
    "<cite>Figure source: [4]</cite>"
   ]
  },
  {
   "cell_type": "markdown",
   "id": "fa9007b1-635e-4ef9-918d-3a84d259091e",
   "metadata": {},
   "source": [
    "##### The simplest neuron is called a **\"Perceptron\"** (with activation function: **Heaviside step function**, aka **unit step function**):\n",
    "\n",
    "\\begin{equation}\n",
    "  f(z) =\n",
    "    \\begin{cases}\n",
    "      0 & \\text{if bank $z<0$}\\\\\n",
    "      1 & \\text{if $z \\geq 0$}\n",
    "    \\end{cases}       \n",
    "\\end{equation}\n",
    "\n",
    "<div>\n",
    "    <img src=\"heaviside_step_function.png\" width=\"500\"/>\n",
    "</div>\n",
    "<cite>Figure source: [5]</cite>"
   ]
  },
  {
   "cell_type": "markdown",
   "id": "c790e357-0afb-49e1-8cc8-9d4929f35785",
   "metadata": {},
   "source": [
    "## **A simple CNN model:**\n",
    "<div>\n",
    "    <img src=\"cnn-model.jpeg\" width=\"900\" height=\"900\"/>\n",
    "</div><br><br>"
   ]
  },
  {
   "cell_type": "markdown",
   "id": "XMUUcT1dC9wn",
   "metadata": {
    "id": "XMUUcT1dC9wn"
   },
   "source": [
    "#### Note on the 'Flatten' layer:\n",
    "* This is really not a layer in the conventional sense, although it is defined in the **tensorflow.keras.layers**.\n",
    "* This is a function used to convert the features (or weights) after pooling, to be fed into the aforementioned feedforward neural network for classification.\n",
    "  * We will see this a little later when we design the model."
   ]
  },
  {
   "cell_type": "markdown",
   "id": "SV56FzfOiqRX",
   "metadata": {
    "id": "SV56FzfOiqRX"
   },
   "source": [
    "### Designing the model:"
   ]
  },
  {
   "cell_type": "code",
   "execution_count": 16,
   "id": "EmnpyJz7i8HT",
   "metadata": {
    "id": "EmnpyJz7i8HT"
   },
   "outputs": [
    {
     "name": "stdout",
     "output_type": "stream",
     "text": [
      "Epoch 1/50\n",
      "29/29 [==============================] - 1s 25ms/step - loss: 0.6941 - accuracy: 0.5479 - val_loss: 0.6933 - val_accuracy: 0.5000\n",
      "Epoch 2/50\n",
      "29/29 [==============================] - 1s 18ms/step - loss: 0.6751 - accuracy: 0.6169 - val_loss: 0.6708 - val_accuracy: 0.6200\n",
      "Epoch 3/50\n",
      "29/29 [==============================] - 1s 18ms/step - loss: 0.6574 - accuracy: 0.6180 - val_loss: 0.7294 - val_accuracy: 0.4900\n",
      "Epoch 4/50\n",
      "29/29 [==============================] - 1s 18ms/step - loss: 0.6405 - accuracy: 0.6258 - val_loss: 0.6479 - val_accuracy: 0.6200\n",
      "Epoch 5/50\n",
      "29/29 [==============================] - 1s 18ms/step - loss: 0.6038 - accuracy: 0.6815 - val_loss: 0.6495 - val_accuracy: 0.6500\n",
      "Epoch 6/50\n",
      "29/29 [==============================] - 1s 19ms/step - loss: 0.5741 - accuracy: 0.7238 - val_loss: 0.6624 - val_accuracy: 0.6100\n",
      "Epoch 7/50\n",
      "29/29 [==============================] - 1s 18ms/step - loss: 0.5658 - accuracy: 0.7105 - val_loss: 0.6213 - val_accuracy: 0.6800\n",
      "Epoch 8/50\n",
      "29/29 [==============================] - 1s 18ms/step - loss: 0.5178 - accuracy: 0.7483 - val_loss: 0.6199 - val_accuracy: 0.6200\n",
      "Epoch 9/50\n",
      "29/29 [==============================] - 1s 18ms/step - loss: 0.4929 - accuracy: 0.7617 - val_loss: 0.6520 - val_accuracy: 0.6500\n",
      "Epoch 10/50\n",
      "29/29 [==============================] - 1s 19ms/step - loss: 0.5211 - accuracy: 0.7383 - val_loss: 0.6097 - val_accuracy: 0.6400\n",
      "Epoch 11/50\n",
      "29/29 [==============================] - 1s 19ms/step - loss: 0.4902 - accuracy: 0.7728 - val_loss: 0.6679 - val_accuracy: 0.6200\n",
      "Epoch 12/50\n",
      "29/29 [==============================] - 1s 19ms/step - loss: 0.5004 - accuracy: 0.7572 - val_loss: 0.6420 - val_accuracy: 0.6600\n",
      "Epoch 13/50\n",
      "29/29 [==============================] - 1s 19ms/step - loss: 0.4465 - accuracy: 0.8040 - val_loss: 0.7110 - val_accuracy: 0.6500\n",
      "Epoch 14/50\n",
      "29/29 [==============================] - 1s 21ms/step - loss: 0.4225 - accuracy: 0.8073 - val_loss: 0.6546 - val_accuracy: 0.6300\n",
      "Epoch 15/50\n",
      "29/29 [==============================] - 1s 19ms/step - loss: 0.4043 - accuracy: 0.8163 - val_loss: 0.6912 - val_accuracy: 0.6800\n",
      "Epoch 16/50\n",
      "29/29 [==============================] - 1s 18ms/step - loss: 0.4023 - accuracy: 0.8296 - val_loss: 0.6760 - val_accuracy: 0.7200\n",
      "Epoch 17/50\n",
      "29/29 [==============================] - 1s 20ms/step - loss: 0.3671 - accuracy: 0.8497 - val_loss: 0.6605 - val_accuracy: 0.6500\n",
      "Epoch 18/50\n",
      "29/29 [==============================] - 1s 20ms/step - loss: 0.3539 - accuracy: 0.8419 - val_loss: 0.7008 - val_accuracy: 0.6800\n",
      "Epoch 19/50\n",
      "29/29 [==============================] - 1s 19ms/step - loss: 0.3220 - accuracy: 0.8786 - val_loss: 0.7097 - val_accuracy: 0.6500\n",
      "Epoch 20/50\n",
      "29/29 [==============================] - 1s 20ms/step - loss: 0.3068 - accuracy: 0.8742 - val_loss: 0.9127 - val_accuracy: 0.5900\n",
      "Epoch 21/50\n",
      "29/29 [==============================] - 1s 20ms/step - loss: 0.3049 - accuracy: 0.8786 - val_loss: 0.7353 - val_accuracy: 0.6600\n",
      "Epoch 22/50\n",
      "29/29 [==============================] - 1s 20ms/step - loss: 0.2650 - accuracy: 0.9020 - val_loss: 0.7645 - val_accuracy: 0.6000\n",
      "Epoch 23/50\n",
      "29/29 [==============================] - 1s 19ms/step - loss: 0.2458 - accuracy: 0.9120 - val_loss: 0.7742 - val_accuracy: 0.6500\n",
      "Epoch 24/50\n",
      "29/29 [==============================] - 1s 20ms/step - loss: 0.2386 - accuracy: 0.9076 - val_loss: 0.8820 - val_accuracy: 0.6100\n",
      "Epoch 25/50\n",
      "29/29 [==============================] - 1s 22ms/step - loss: 0.2230 - accuracy: 0.9276 - val_loss: 0.8291 - val_accuracy: 0.6300\n",
      "Epoch 26/50\n",
      "29/29 [==============================] - 1s 21ms/step - loss: 0.2027 - accuracy: 0.9254 - val_loss: 0.8657 - val_accuracy: 0.6500\n",
      "Epoch 27/50\n",
      "29/29 [==============================] - 1s 22ms/step - loss: 0.2477 - accuracy: 0.8920 - val_loss: 0.9415 - val_accuracy: 0.5600\n",
      "Epoch 28/50\n",
      "29/29 [==============================] - 1s 20ms/step - loss: 0.2330 - accuracy: 0.9098 - val_loss: 1.0994 - val_accuracy: 0.5700\n",
      "Epoch 29/50\n",
      "29/29 [==============================] - 1s 20ms/step - loss: 0.1812 - accuracy: 0.9399 - val_loss: 0.9148 - val_accuracy: 0.6200\n",
      "Epoch 30/50\n",
      "29/29 [==============================] - 1s 19ms/step - loss: 0.2130 - accuracy: 0.9131 - val_loss: 1.0733 - val_accuracy: 0.6400\n",
      "Epoch 31/50\n",
      "29/29 [==============================] - 1s 23ms/step - loss: 0.1685 - accuracy: 0.9410 - val_loss: 1.0549 - val_accuracy: 0.5900\n",
      "Epoch 32/50\n",
      "29/29 [==============================] - 1s 20ms/step - loss: 0.1173 - accuracy: 0.9666 - val_loss: 1.0322 - val_accuracy: 0.6600\n",
      "Epoch 33/50\n",
      "29/29 [==============================] - 1s 20ms/step - loss: 0.1143 - accuracy: 0.9666 - val_loss: 1.1028 - val_accuracy: 0.5900\n",
      "Epoch 34/50\n",
      "29/29 [==============================] - 1s 20ms/step - loss: 0.0882 - accuracy: 0.9855 - val_loss: 1.1767 - val_accuracy: 0.5800\n",
      "Epoch 35/50\n",
      "29/29 [==============================] - 1s 21ms/step - loss: 0.0932 - accuracy: 0.9855 - val_loss: 1.2149 - val_accuracy: 0.5600\n",
      "Epoch 36/50\n",
      "29/29 [==============================] - 1s 21ms/step - loss: 0.0837 - accuracy: 0.9878 - val_loss: 1.2370 - val_accuracy: 0.5900\n",
      "Epoch 37/50\n",
      "29/29 [==============================] - 1s 22ms/step - loss: 0.0648 - accuracy: 0.9922 - val_loss: 1.2141 - val_accuracy: 0.6000\n",
      "Epoch 38/50\n",
      "29/29 [==============================] - 1s 20ms/step - loss: 0.0617 - accuracy: 0.9911 - val_loss: 1.2997 - val_accuracy: 0.6200\n",
      "Epoch 39/50\n",
      "29/29 [==============================] - 1s 22ms/step - loss: 0.0599 - accuracy: 0.9944 - val_loss: 1.3204 - val_accuracy: 0.5900\n",
      "Epoch 40/50\n",
      "29/29 [==============================] - 1s 20ms/step - loss: 0.0449 - accuracy: 0.9989 - val_loss: 1.3756 - val_accuracy: 0.5700\n",
      "Epoch 41/50\n",
      "29/29 [==============================] - 1s 22ms/step - loss: 0.0365 - accuracy: 1.0000 - val_loss: 1.4058 - val_accuracy: 0.5900\n",
      "Epoch 42/50\n",
      "29/29 [==============================] - 1s 20ms/step - loss: 0.0311 - accuracy: 1.0000 - val_loss: 1.5532 - val_accuracy: 0.5800\n",
      "Epoch 43/50\n",
      "29/29 [==============================] - 1s 20ms/step - loss: 0.0735 - accuracy: 0.9800 - val_loss: 1.4898 - val_accuracy: 0.5800\n",
      "Epoch 44/50\n",
      "29/29 [==============================] - 1s 21ms/step - loss: 0.0433 - accuracy: 0.9978 - val_loss: 1.4793 - val_accuracy: 0.6000\n",
      "Epoch 45/50\n",
      "29/29 [==============================] - 1s 20ms/step - loss: 0.0284 - accuracy: 0.9989 - val_loss: 1.5448 - val_accuracy: 0.5800\n",
      "Epoch 46/50\n",
      "29/29 [==============================] - 1s 21ms/step - loss: 0.0256 - accuracy: 1.0000 - val_loss: 1.5963 - val_accuracy: 0.5600\n",
      "Epoch 47/50\n",
      "29/29 [==============================] - 1s 21ms/step - loss: 0.0188 - accuracy: 1.0000 - val_loss: 1.5972 - val_accuracy: 0.5900\n",
      "Epoch 48/50\n",
      "29/29 [==============================] - 1s 22ms/step - loss: 0.0156 - accuracy: 1.0000 - val_loss: 1.6794 - val_accuracy: 0.5700\n",
      "Epoch 49/50\n",
      "29/29 [==============================] - 1s 22ms/step - loss: 0.0153 - accuracy: 1.0000 - val_loss: 1.6752 - val_accuracy: 0.5800\n",
      "Epoch 50/50\n",
      "29/29 [==============================] - 1s 21ms/step - loss: 0.0161 - accuracy: 1.0000 - val_loss: 1.6685 - val_accuracy: 0.6000\n",
      "dict_keys(['loss', 'accuracy', 'val_loss', 'val_accuracy'])\n"
     ]
    },
    {
     "data": {
      "image/png": "[encoded data removed]",
      "text/plain": [
       "<Figure size 640x480 with 1 Axes>"
      ]
     },
     "metadata": {},
     "output_type": "display_data"
    },
    {
     "data": {
      "image/png": "[encoded data removed]",
      "text/plain": [
       "<Figure size 640x480 with 1 Axes>"
      ]
     },
     "metadata": {},
     "output_type": "display_data"
    }
   ],
   "source": [
    "# X=pickle.load(open(\"X.pickle\",\"rb\"))\n",
    "# y=pickle.load(open(\"y.pickle\",\"rb\"))\n",
    "\n",
    "# Normalize data\n",
    "X=np.asarray(X)/255.0\n",
    "# X=X.tolist()\n",
    "\n",
    "y = np.array(y)\n",
    "\n",
    "model=Sequential()\n",
    "\n",
    "model.add(  Conv2D(64,(3,3),input_shape=X.shape[1:])  )\n",
    "model.add(Activation(\"relu\"))\n",
    "model.add(MaxPooling2D(pool_size=(2,2)))\n",
    "\n",
    "model.add(  Conv2D(32,(2,2))    )\n",
    "model.add(Activation(\"relu\"))\n",
    "model.add(MaxPooling2D(pool_size=(2,2)))\n",
    "\n",
    "model.add(Flatten())\n",
    "\n",
    "model.add(Dense(128))\n",
    "model.add(Activation('sigmoid'))\n",
    "\n",
    "# model.add(Dense(64))\n",
    "# model.add(Activation('sigmoid'))\n",
    "\n",
    "model.add(Dense(1))\n",
    "model.add(Activation(\"sigmoid\"))\n",
    "\n",
    "model.compile(loss=\"binary_crossentropy\",\n",
    "              optimizer=\"adam\",\n",
    "              metrics=['accuracy'])\n",
    "\n",
    "# callback = tf.keras.callbacks.EarlyStopping(monitor='val_loss', patience=3)\n",
    "\n",
    "# history=model.fit(X, y, batch_size=32, shuffle=True, sample_weight=None, epochs=50,validation_split=0.1, verbose = 1, callbacks=[callback]) # seed=100,         \n",
    "\n",
    "history=model.fit(X, y, batch_size=32, shuffle=True, sample_weight=None, epochs=50,validation_split=0.1, verbose = 1) # seed=100,         \n",
    "\n",
    "\n",
    "# model.fit(X,y,batch_size=32,epochs=25,validation_split=0.1)\n",
    "\n",
    "# list all data in history\n",
    "print(history.history.keys())\n",
    "# summarize history for accuracy\n",
    "plt.plot(history.history['accuracy'])\n",
    "plt.plot(history.history['val_accuracy'])\n",
    "plt.title('model accuracy')\n",
    "plt.ylabel('accuracy')\n",
    "plt.xlabel('epoch')\n",
    "plt.legend(['train', 'validation'], loc='upper left')\n",
    "plt.show()\n",
    "# summarize history for loss\n",
    "plt.plot(history.history['loss'])\n",
    "plt.plot(history.history['val_loss'])\n",
    "plt.title('model loss')\n",
    "plt.ylabel('loss')\n",
    "plt.xlabel('epoch')\n",
    "plt.legend(['train', 'validation'], loc='upper left')\n",
    "plt.show()"
   ]
  },
  {
   "cell_type": "markdown",
   "id": "jkTis5DGvqVb",
   "metadata": {
    "id": "jkTis5DGvqVb"
   },
   "source": [
    "## <a name=\"ex5\"></a> Exercise-5:\n",
    "* How many neurons are there in each of the aforementioned layers?"
   ]
  },
  {
   "cell_type": "markdown",
   "id": "IzkOWlkJv6El",
   "metadata": {
    "id": "IzkOWlkJv6El"
   },
   "source": [
    "<a href=\"#ex5sol\">Solution for Exercise 5</a>"
   ]
  },
  {
   "cell_type": "markdown",
   "id": "29ulDvxLvzIV",
   "metadata": {
    "id": "29ulDvxLvzIV"
   },
   "source": [
    "## <a name=\"ex6\"></a> Exercise-6:\n",
    "* Why have we not used a Softmax layer?"
   ]
  },
  {
   "cell_type": "markdown",
   "id": "oDcNVKrev6sF",
   "metadata": {
    "id": "oDcNVKrev6sF"
   },
   "source": [
    "<a href=\"#ex6sol\">Solution for Exercise 6</a>"
   ]
  },
  {
   "cell_type": "markdown",
   "id": "055c259f-6ec4-4652-8d57-e4ba3c988853",
   "metadata": {},
   "source": [
    "# Solutions:"
   ]
  },
  {
   "cell_type": "markdown",
   "id": "5yacG7sYSO7v",
   "metadata": {
    "id": "5yacG7sYSO7v"
   },
   "source": [
    "<a name=\"ex1sol\">Solution for Exercise 1</a>"
   ]
  },
  {
   "cell_type": "code",
   "execution_count": 3,
   "id": "uygDN6GASbaz",
   "metadata": {
    "id": "uygDN6GASbaz"
   },
   "outputs": [],
   "source": [
    "# Simple way to read in all of the data:\n",
    "# --------------------------------------\n",
    "\n",
    "####################################################################################\n",
    "CATS_folder='PET-IMAGES/Cat' # CATS_folder='Cat_folder_path' | # If reading from Drive: CATS_folder='/content/drive/MyDrive/PetImages/Cat'\n",
    "DOGS_folder='PET-IMAGES/Dog' # DOGS_folder='Dog_folder_path' | # If reading from Drive: DOGS_folder='/content/drive/MyDrive/PetImages/Dog'\n",
    "\n",
    "imdir = CATS_folder # or, DOGS_folder\n",
    "ext = ['png', 'jpg'] # add other image formats for other datasets\n",
    "files = []\n",
    "[files.extend(glob.glob(imdir + '*.' + e)) for e in ext]\n",
    "images = [cv2.imread(file) for file in files]\n",
    "####################################################################################"
   ]
  },
  {
   "cell_type": "markdown",
   "id": "spxTpYLDbbr8",
   "metadata": {
    "id": "spxTpYLDbbr8"
   },
   "source": [
    "<a href=\"#ex1\">Back to Exercise 1</a>"
   ]
  },
  {
   "cell_type": "markdown",
   "id": "JUPxFoApoOSN",
   "metadata": {
    "id": "JUPxFoApoOSN"
   },
   "source": [
    "<a name=\"ex2sol\">Solution for Exercise 2</a>"
   ]
  },
  {
   "cell_type": "code",
   "execution_count": 13,
   "id": "qkQbLZgCoZGf",
   "metadata": {
    "id": "qkQbLZgCoZGf"
   },
   "outputs": [],
   "source": [
    "X=pickle.load(open(\"input/X.pickle\",\"rb\"))\n",
    "y=pickle.load(open(\"input/y.pickle\",\"rb\"))"
   ]
  },
  {
   "cell_type": "markdown",
   "id": "HDEv3rTEoSBo",
   "metadata": {
    "id": "HDEv3rTEoSBo"
   },
   "source": [
    "<a href=\"#ex2\">Back to Exercise 2</a>"
   ]
  },
  {
   "cell_type": "markdown",
   "id": "Toq7raURsvqO",
   "metadata": {
    "id": "Toq7raURsvqO"
   },
   "source": [
    "<a name=\"ex3sol\">Solution for Exercise 3</a>"
   ]
  },
  {
   "cell_type": "code",
   "execution_count": 14,
   "id": "-nBq2bZoswKy",
   "metadata": {
    "id": "-nBq2bZoswKy"
   },
   "outputs": [],
   "source": [
    "def Shuffle(X, y):\n",
    "    X_shuffled=[]\n",
    "    y_shuffled=[]\n",
    "    length=len(y)\n",
    "    index=list(range(length))\n",
    "    random.Random(12).shuffle(index)\n",
    "    for i in range(length):\n",
    "        X_shuffled.append(X[index[i]])\n",
    "        y_shuffled.append(y[index[i]])\n",
    "    return X_shuffled, y_shuffled\n",
    "X, y=Shuffle(X, y)"
   ]
  },
  {
   "cell_type": "markdown",
   "id": "5RM5vfoss8EZ",
   "metadata": {
    "id": "5RM5vfoss8EZ"
   },
   "source": [
    "<a href=\"#ex3\">Back to Exercise 3</a>"
   ]
  },
  {
   "cell_type": "markdown",
   "id": "df2Te6Fc94mh",
   "metadata": {
    "id": "df2Te6Fc94mh"
   },
   "source": [
    "<a name=\"ex4sol\">Solution for Exercise 4</a>"
   ]
  },
  {
   "cell_type": "code",
   "execution_count": 7,
   "id": "w-E5MGcf-GFG",
   "metadata": {
    "id": "w-E5MGcf-GFG"
   },
   "outputs": [],
   "source": [
    "# Save the training data\n",
    "pickle_out=open(\"X_save.pickle\",\"wb\")\n",
    "pickle.dump(X,pickle_out)\n",
    "pickle_out.close()\n",
    "# Save the training labels\n",
    "pickle_out=open(\"y_save.pickle\",\"wb\")\n",
    "pickle.dump(y,pickle_out)\n",
    "pickle_out.close()"
   ]
  },
  {
   "cell_type": "markdown",
   "id": "ADasurGm98CT",
   "metadata": {
    "id": "ADasurGm98CT"
   },
   "source": [
    "<a href=\"#ex4\">Back to Exercise 4</a>"
   ]
  },
  {
   "cell_type": "markdown",
   "id": "ecbIfYcwwAvZ",
   "metadata": {
    "id": "ecbIfYcwwAvZ"
   },
   "source": [
    "<a name=\"ex5sol\">Solution for Exercise 5</a>"
   ]
  },
  {
   "cell_type": "markdown",
   "id": "djn_FJV5wCqY",
   "metadata": {
    "id": "djn_FJV5wCqY"
   },
   "source": [
    "* ***Conv-1***: 64, ***Conv2***: 32, ***Dense-1***: 128, ***Dense-2***: 1"
   ]
  },
  {
   "cell_type": "markdown",
   "id": "XXpxgXUfwD1O",
   "metadata": {
    "id": "XXpxgXUfwD1O"
   },
   "source": [
    "<a href=\"#ex5\">Back to Exercise 5</a>"
   ]
  },
  {
   "cell_type": "markdown",
   "id": "nUA7Uopb7lQs",
   "metadata": {
    "id": "nUA7Uopb7lQs"
   },
   "source": [
    "<a name=\"ex6sol\">Solution for Exercise 6</a>"
   ]
  },
  {
   "cell_type": "markdown",
   "id": "lTinfT_M7oKM",
   "metadata": {
    "id": "lTinfT_M7oKM"
   },
   "source": [
    "Because in 2-class classification, the probabilities will anyway add up to 1 when using sigmoid function."
   ]
  },
  {
   "cell_type": "markdown",
   "id": "KY8_di7S7rDa",
   "metadata": {
    "id": "KY8_di7S7rDa"
   },
   "source": [
    "<a href=\"#ex6\">Back to Exercise 6</a>"
   ]
  },
  {
   "cell_type": "markdown",
   "id": "Ip2dZppyxvdR",
   "metadata": {
    "id": "Ip2dZppyxvdR"
   },
   "source": [
    "### References:\n",
    "<ol>\n",
    "    <li><a href=\"https://towardsdatascience.com/the-math-behind-convolutional-neural-networks-6aed775df076\">The Math Behind Convolutional Neural Networks</a></li>\n",
    "    <li><a href=\"https://arxiv.org/pdf/1511.08458.pdf\">An Introduction to Convolutional Neural Networks</a></li>\n",
    "    <li><a href=\"https://www.biorender.com\">Image generated with BioRender.com</a></li>\n",
    "    <li><a href=\"https://towardsdatascience.com/the-math-behind-neural-networks-a34a51b93873\">The Math Behind Neural networks</a></li>\n",
    "    <li><a href=\"https://en.wikipedia.org/wiki/Heaviside_step_function\">Heaviside step function&mdash;Wikipedia</a></li>\n",
    "</ol>"
   ]
  },
  {
   "cell_type": "markdown",
   "id": "958a4811-d211-4603-8d66-b5ca7cb7b0bb",
   "metadata": {},
   "source": [
    "### Acknowledgements:\n",
    "\n",
    "The materials in this notebook have been heavily utilized from:\n",
    "<ul>\n",
    "    <li><a href=\"https://medium.com/@cristianleo120\">Christian Leo<a>'s blog post titled <a href=\"https://towardsdatascience.com/the-math-behind-convolutional-neural-networks-6aed775df076\">The Math Behind Convolutional Neural Networks<a>.</li>\n",
    "        <li>The paper titled <a href=\"https://arxiv.org/pdf/1511.08458.pdf\">An Introduction to Convolutional Neural Networks<a> by Keiron O'Shea et al.</li>\n",
    "</ul>\n"
   ]
  },
  {
   "cell_type": "markdown",
   "id": "125b39f3-9a13-4e5d-a230-e121bd7046c8",
   "metadata": {},
   "source": [
    "### Additional reading for interested readers:\n",
    "\n",
    "#### Basic ideas behind machine learning and AI:\n",
    "* What do we mean by 'learning' and 'intelligent' systems?\n",
    "* What are the three main types of machine learning, and what are the differences?\n",
    "\n",
    "#### Artificial neural networks:\n",
    "* NN-related terms: Neurons, layers, activation functions, fully connected networks, multi-layer perceptron\n",
    "* Hyperparameter tuning and model improvement basics: Learning rate, no. of neurons oer layer, how to set model size (i.e., no. and type of layers)\n",
    "* Learning-related: Learning rate, backpropagation, gradient descent\n",
    "\n",
    "#### Optional reading (slightly more advanced):\n",
    "* What is transfer learning? What are pre-trained models, and how to use them? Why pre-trained models?\n",
    "* What is overfitting? How to 1. detect 2. tackle overfitting?\n",
    "  * Regularization, Dropout, resampling, oversampling (read about 'SMOTE') and undersampling, data augmentation techniques."
   ]
  }
 ],
 "metadata": {
  "celltoolbar": "Slideshow",
  "colab": {
   "collapsed_sections": [],
   "name": "7_image_classification_using_keras (1).ipynb",
   "private_outputs": true,
   "provenance": []
  },
  "interpreter": {
   "hash": "eef83daaa25a6a574d0d0479cc43f87e19b645fd2c92685619488cac1bd491c0"
  },
  "kernelspec": {
   "display_name": "Python 3 (ipykernel)",
   "language": "python",
   "name": "python3"
  },
  "language_info": {
   "codemirror_mode": {
    "name": "ipython",
    "version": 3
   },
   "file_extension": ".py",
   "mimetype": "text/x-python",
   "name": "python",
   "nbconvert_exporter": "python",
   "pygments_lexer": "ipython3",
   "version": "3.10.12"
  },
  "latex_envs": {
   "LaTeX_envs_menu_present": true,
   "autoclose": false,
   "autocomplete": true,
   "bibliofile": "biblio.bib",
   "cite_by": "apalike",
   "current_citInitial": 1,
   "eqLabelWithNumbers": true,
   "eqNumInitial": 1,
   "hotkeys": {
    "equation": "Ctrl-E",
    "itemize": "Ctrl-I"
   },
   "labels_anchors": false,
   "latex_user_defs": false,
   "report_style_numbering": false,
   "user_envs_cfg": false
  }
 },
 "nbformat": 4,
 "nbformat_minor": 5
}
