








!unzip PET-IMAGES.zip


# IMPORT REQUIRED LIBRARIES:
# --------------------------
import tensorflow as tf
from tensorflow.keras.models import Sequential
from tensorflow.keras.layers import Dense, Dropout, Activation, Flatten, Conv2D, MaxPooling2D
import pickle
import numpy as np
from numpy import genfromtxt
import numpy as np
import matplotlib.pyplot as plt
import matplotlib.image as mpimg
import os
# import cv2
from PIL import Image
import imageio
import pandas as pd
import random
import pickle
import pandas as pd
from sklearn.preprocessing import LabelBinarizer
from skimage.io import imread_collection
import glob




















# # SYNTAX:
# # -------
# pickle_out=open("data.pickle","wb")
# pickle.dump(data,pickle_out)
# pickle_out.close()





# # SYNTAX:
# # -------
# data=pickle.load(open("data.pickle","rb"))






















































































# X=pickle.load(open("X.pickle","rb"))
# y=pickle.load(open("y.pickle","rb"))

# Normalize data
X=np.asarray(X)/255.0
# X=X.tolist()

y = np.array(y)

model=Sequential()

model.add(  Conv2D(64,(3,3),input_shape=X.shape[1:])  )
model.add(Activation("relu"))
model.add(MaxPooling2D(pool_size=(2,2)))

model.add(  Conv2D(32,(2,2))    )
model.add(Activation("relu"))
model.add(MaxPooling2D(pool_size=(2,2)))

model.add(Flatten())

model.add(Dense(128))
model.add(Activation('sigmoid'))

# model.add(Dense(64))
# model.add(Activation('sigmoid'))

model.add(Dense(1))
model.add(Activation("sigmoid"))

model.compile(loss="binary_crossentropy",
              optimizer="adam",
              metrics=['accuracy'])

# callback = tf.keras.callbacks.EarlyStopping(monitor='val_loss', patience=3)

# history=model.fit(X, y, batch_size=32, shuffle=True, sample_weight=None, epochs=50,validation_split=0.1, verbose = 1, callbacks=[callback]) # seed=100,         

history=model.fit(X, y, batch_size=32, shuffle=True, sample_weight=None, epochs=50,validation_split=0.1, verbose = 1) # seed=100,         


# model.fit(X,y,batch_size=32,epochs=25,validation_split=0.1)

# list all data in history
print(history.history.keys())
# summarize history for accuracy
plt.plot(history.history['accuracy'])
plt.plot(history.history['val_accuracy'])
plt.title('model accuracy')
plt.ylabel('accuracy')
plt.xlabel('epoch')
plt.legend(['train', 'validation'], loc='upper left')
plt.show()
# summarize history for loss
plt.plot(history.history['loss'])
plt.plot(history.history['val_loss'])
plt.title('model loss')
plt.ylabel('loss')
plt.xlabel('epoch')
plt.legend(['train', 'validation'], loc='upper left')
plt.show()




















# Simple way to read in all of the data:
# --------------------------------------

####################################################################################
CATS_folder='PET-IMAGES/Cat' # CATS_folder='Cat_folder_path' | # If reading from Drive: CATS_folder='/content/drive/MyDrive/PetImages/Cat'
DOGS_folder='PET-IMAGES/Dog' # DOGS_folder='Dog_folder_path' | # If reading from Drive: DOGS_folder='/content/drive/MyDrive/PetImages/Dog'

imdir = CATS_folder # or, DOGS_folder
ext = ['png', 'jpg'] # add other image formats for other datasets
files = []
[files.extend(glob.glob(imdir + '*.' + e)) for e in ext]
images = [cv2.imread(file) for file in files]
####################################################################################








X=pickle.load(open("input/X.pickle","rb"))
y=pickle.load(open("input/y.pickle","rb"))








def Shuffle(X, y):
    X_shuffled=[]
    y_shuffled=[]
    length=len(y)
    index=list(range(length))
    random.Random(12).shuffle(index)
    for i in range(length):
        X_shuffled.append(X[index[i]])
        y_shuffled.append(y[index[i]])
    return X_shuffled, y_shuffled
X, y=Shuffle(X, y)








# Save the training data
pickle_out=open("X_save.pickle","wb")
pickle.dump(X,pickle_out)
pickle_out.close()
# Save the training labels
pickle_out=open("y_save.pickle","wb")
pickle.dump(y,pickle_out)
pickle_out.close()






























